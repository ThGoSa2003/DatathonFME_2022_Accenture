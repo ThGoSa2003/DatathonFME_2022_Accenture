{
 "cells": [
  {
   "cell_type": "markdown",
   "metadata": {
    "papermill": {
     "duration": 0.004443,
     "end_time": "2022-11-11T08:46:48.019499",
     "exception": false,
     "start_time": "2022-11-11T08:46:48.015056",
     "status": "completed"
    },
    "tags": []
   },
   "source": [
    "# Sarter Notebook"
   ]
  },
  {
   "cell_type": "code",
   "execution_count": 79,
   "metadata": {
    "papermill": {
     "duration": 1.688634,
     "end_time": "2022-11-11T08:46:49.712044",
     "exception": false,
     "start_time": "2022-11-11T08:46:48.02341",
     "status": "completed"
    },
    "tags": []
   },
   "outputs": [],
   "source": [
    "import pandas as pd\n",
    "import numpy as np\n",
    "import matplotlib.pyplot as plt\n",
    "import math\n",
    "import haversine as hs"
   ]
  },
  {
   "cell_type": "markdown",
   "metadata": {
    "papermill": {
     "duration": 0.003519,
     "end_time": "2022-11-11T08:46:49.719635",
     "exception": false,
     "start_time": "2022-11-11T08:46:49.716116",
     "status": "completed"
    },
    "tags": []
   },
   "source": [
    "## Reading Data"
   ]
  },
  {
   "cell_type": "code",
   "execution_count": 80,
   "metadata": {
    "papermill": {
     "duration": 0.383908,
     "end_time": "2022-11-11T08:46:50.10727",
     "exception": false,
     "start_time": "2022-11-11T08:46:49.723362",
     "status": "completed"
    },
    "tags": []
   },
   "outputs": [],
   "source": [
    "# read train data\n",
    "df_orders = pd.read_csv(\"orders.csv\", sep=\";\")\n",
    "df_products = pd.read_csv(\"product_attributes.csv\", sep=\",\")\n",
    "df_dists = pd.read_csv(\"cities_data.csv\", sep=\";\")\n",
    "df_ordersXproducts = pd.read_csv('ordersXproducts.csv')\n",
    "del df_ordersXproducts['Unnamed: 0']\n",
    "\n",
    "# read test data\n",
    "df_test = pd.read_csv(\"test.csv\", sep=\";\")"
   ]
  },
  {
   "cell_type": "markdown",
   "metadata": {},
   "source": [
    "## Merge tables"
   ]
  },
  {
   "cell_type": "code",
   "execution_count": 81,
   "metadata": {},
   "outputs": [],
   "source": [
    "df_coord = df_dists[['city_from_name', 'city_from_coord']].drop_duplicates().reset_index().drop(columns=['index']).copy()"
   ]
  },
  {
   "cell_type": "code",
   "execution_count": 82,
   "metadata": {},
   "outputs": [],
   "source": [
    "df_alt = df_dists.copy()\n",
    "\n",
    "c2 = df_alt['city_from_name'].values.copy()\n",
    "c1 = df_alt['city_to_name'].values.copy()\n",
    "c4 = df_alt['city_from_coord'].values.copy()\n",
    "c3 = df_alt['city_to_coord'].values.copy()\n",
    "\n",
    "df_alt['city_from_name'] = c1\n",
    "df_alt['city_to_name'] = c2\n",
    "df_alt['city_from_coord'] = c3\n",
    "df_alt['city_to_coord'] = c4\n",
    "\n",
    "df_dists = pd.concat([df_dists, df_alt]).reset_index().drop(columns=['index'])"
   ]
  },
  {
   "cell_type": "code",
   "execution_count": 83,
   "metadata": {},
   "outputs": [],
   "source": [
    "df = pd.merge(df_ordersXproducts, df_dists, how='left', left_on=['origin_port', 'logistic_hub'], right_on=['city_from_name', 'city_to_name'])\n",
    "del df['city_from_name']\n",
    "del df['city_to_name']\n",
    "del df['city_from_coord']\n",
    "del df['city_to_coord']\n",
    "df = df.rename(columns={'distance': 'dist_origin_hub'})\n",
    "\n",
    "df = pd.merge(df, df_dists, how='left', left_on=['logistic_hub', 'customer'], right_on=['city_from_name', 'city_to_name'])\n",
    "del df['city_from_name']\n",
    "del df['city_to_name']\n",
    "del df['city_from_coord']\n",
    "del df['city_to_coord']\n",
    "df = df.rename(columns={'distance': 'dist_hub_customer'})\n",
    "\n",
    "df = pd.merge(df, df_dists, how='left', left_on=['origin_port', 'customer'], right_on=['city_from_name', 'city_to_name'])\n",
    "del df['city_from_name']\n",
    "del df['city_to_name']\n",
    "del df['city_from_coord']\n",
    "del df['city_to_coord']\n",
    "df = df.rename(columns={'distance': 'dist_origin_customer'})\n",
    "\n",
    "df = pd.merge(df, df_coord, how='left', left_on=['origin_port'], right_on=['city_from_name'])\n",
    "del df['city_from_name']\n",
    "df = df.rename(columns={'city_from_coord': 'origin_port_coord'})\n",
    "\n",
    "df = pd.merge(df, df_coord, how='left', left_on=['logistic_hub'], right_on=['city_from_name'])\n",
    "del df['city_from_name']\n",
    "df = df.rename(columns={'city_from_coord': 'logistic_hub_coord'})\n",
    "\n",
    "df = pd.merge(df, df_coord, how='left', left_on=['customer'], right_on=['city_from_name'])\n",
    "del df['city_from_name']\n",
    "df = df.rename(columns={'city_from_coord': 'customer_coord'})"
   ]
  },
  {
   "cell_type": "code",
   "execution_count": 84,
   "metadata": {},
   "outputs": [],
   "source": [
    "for i in range(len(df)):\n",
    "    if (not pd.isna(df.at[i, 'dist_origin_hub'])) and (not pd.isna(df.at[i, 'dist_hub_customer'])):\n",
    "        df.at[i, 'dist_origin_customer'] = df.at[i, 'dist_origin_hub'] + df.at[i, 'dist_hub_customer']"
   ]
  },
  {
   "cell_type": "code",
   "execution_count": 87,
   "metadata": {},
   "outputs": [
    {
     "data": {
      "text/plain": [
       "order_id                   0\n",
       "origin_port                0\n",
       "3pl                        0\n",
       "customs_procedures         0\n",
       "logistic_hub            1049\n",
       "customer                   0\n",
       "product_id                 0\n",
       "units                      0\n",
       "late_order                 0\n",
       "weight                   118\n",
       "material_handling        118\n",
       "dist_origin_hub         1049\n",
       "dist_hub_customer       1049\n",
       "dist_origin_customer       0\n",
       "origin_port_coord          0\n",
       "logistic_hub_coord      1049\n",
       "customer_coord          1112\n",
       "dtype: int64"
      ]
     },
     "execution_count": 87,
     "metadata": {},
     "output_type": "execute_result"
    }
   ],
   "source": [
    "df.isnull().sum()"
   ]
  },
  {
   "cell_type": "code",
   "execution_count": 85,
   "metadata": {},
   "outputs": [],
   "source": [
    "x = df[~df['logistic_hub'].isna()]\n",
    "indexes = x[x['dist_hub_customer'].isna()].index\n",
    "\n",
    "for i in indexes:\n",
    "    df.at[i, 'dist_hub_customer'] = 0"
   ]
  },
  {
   "cell_type": "code",
   "execution_count": 86,
   "metadata": {},
   "outputs": [],
   "source": [
    "x = df[df['dist_origin_customer'].isna()]\n",
    "indexes = x.index\n",
    "\n",
    "for i in indexes:\n",
    "    df.at[i, 'dist_origin_customer'] = 0"
   ]
  },
  {
   "cell_type": "code",
   "execution_count": 88,
   "metadata": {},
   "outputs": [
    {
     "data": {
      "text/html": [
       "<div>\n",
       "<style scoped>\n",
       "    .dataframe tbody tr th:only-of-type {\n",
       "        vertical-align: middle;\n",
       "    }\n",
       "\n",
       "    .dataframe tbody tr th {\n",
       "        vertical-align: top;\n",
       "    }\n",
       "\n",
       "    .dataframe thead th {\n",
       "        text-align: right;\n",
       "    }\n",
       "</style>\n",
       "<table border=\"1\" class=\"dataframe\">\n",
       "  <thead>\n",
       "    <tr style=\"text-align: right;\">\n",
       "      <th></th>\n",
       "      <th>order_id</th>\n",
       "      <th>origin_port</th>\n",
       "      <th>3pl</th>\n",
       "      <th>customs_procedures</th>\n",
       "      <th>logistic_hub</th>\n",
       "      <th>customer</th>\n",
       "      <th>product_id</th>\n",
       "      <th>units</th>\n",
       "      <th>late_order</th>\n",
       "      <th>weight</th>\n",
       "      <th>material_handling</th>\n",
       "      <th>dist_origin_hub</th>\n",
       "      <th>dist_hub_customer</th>\n",
       "      <th>dist_origin_customer</th>\n",
       "      <th>origin_port_coord</th>\n",
       "      <th>logistic_hub_coord</th>\n",
       "      <th>customer_coord</th>\n",
       "    </tr>\n",
       "  </thead>\n",
       "  <tbody>\n",
       "    <tr>\n",
       "      <th>0</th>\n",
       "      <td>366c7a3d298f</td>\n",
       "      <td>Rotterdam</td>\n",
       "      <td>v_002</td>\n",
       "      <td>DTP</td>\n",
       "      <td>Venlo</td>\n",
       "      <td>Marseille</td>\n",
       "      <td>1692723</td>\n",
       "      <td>583</td>\n",
       "      <td>1</td>\n",
       "      <td>1778.0</td>\n",
       "      <td>5.0</td>\n",
       "      <td>130.0459</td>\n",
       "      <td>902.0420</td>\n",
       "      <td>1032.0879</td>\n",
       "      <td>(51.9244424, 4.47775)</td>\n",
       "      <td>(51.39244885, 6.1511724144122955)</td>\n",
       "      <td>(43.2961743, 5.3699525)</td>\n",
       "    </tr>\n",
       "    <tr>\n",
       "      <th>1</th>\n",
       "      <td>45f906331e10</td>\n",
       "      <td>Rotterdam</td>\n",
       "      <td>v_004</td>\n",
       "      <td>CRF</td>\n",
       "      <td>Rome</td>\n",
       "      <td>Marseille</td>\n",
       "      <td>1644308</td>\n",
       "      <td>459</td>\n",
       "      <td>0</td>\n",
       "      <td>1088.0</td>\n",
       "      <td>3.0</td>\n",
       "      <td>1269.2365</td>\n",
       "      <td>604.0216</td>\n",
       "      <td>1873.2581</td>\n",
       "      <td>(51.9244424, 4.47775)</td>\n",
       "      <td>(41.8933203, 12.4829321)</td>\n",
       "      <td>(43.2961743, 5.3699525)</td>\n",
       "    </tr>\n",
       "    <tr>\n",
       "      <th>2</th>\n",
       "      <td>ac84a6e4af0f</td>\n",
       "      <td>Athens</td>\n",
       "      <td>v_002</td>\n",
       "      <td>CRF</td>\n",
       "      <td>Venlo</td>\n",
       "      <td>Paris</td>\n",
       "      <td>1684170</td>\n",
       "      <td>464</td>\n",
       "      <td>1</td>\n",
       "      <td>505.0</td>\n",
       "      <td>4.0</td>\n",
       "      <td>2029.5726</td>\n",
       "      <td>392.9249</td>\n",
       "      <td>2422.4975</td>\n",
       "      <td>(37.9839412, 23.7283052)</td>\n",
       "      <td>(51.39244885, 6.1511724144122955)</td>\n",
       "      <td>(48.8588897, 2.3200410217200766)</td>\n",
       "    </tr>\n",
       "    <tr>\n",
       "      <th>3</th>\n",
       "      <td>f5e98cb29790</td>\n",
       "      <td>Rotterdam</td>\n",
       "      <td>v_004</td>\n",
       "      <td>CRF</td>\n",
       "      <td>Lille</td>\n",
       "      <td>Milan</td>\n",
       "      <td>1620510</td>\n",
       "      <td>678</td>\n",
       "      <td>0</td>\n",
       "      <td>1308.0</td>\n",
       "      <td>4.0</td>\n",
       "      <td>173.9644</td>\n",
       "      <td>733.8784</td>\n",
       "      <td>907.8428</td>\n",
       "      <td>(51.9244424, 4.47775)</td>\n",
       "      <td>(50.6365654, 3.0635282)</td>\n",
       "      <td>(45.4641943, 9.1896346)</td>\n",
       "    </tr>\n",
       "    <tr>\n",
       "      <th>4</th>\n",
       "      <td>a9e7c9bee35b</td>\n",
       "      <td>Barcelona</td>\n",
       "      <td>v_002</td>\n",
       "      <td>CRF</td>\n",
       "      <td>Venlo</td>\n",
       "      <td>Berlin</td>\n",
       "      <td>1699372</td>\n",
       "      <td>353</td>\n",
       "      <td>0</td>\n",
       "      <td>1465.0</td>\n",
       "      <td>0.0</td>\n",
       "      <td>1153.4178</td>\n",
       "      <td>512.8188</td>\n",
       "      <td>1666.2366</td>\n",
       "      <td>(41.3828939, 2.1774322)</td>\n",
       "      <td>(51.39244885, 6.1511724144122955)</td>\n",
       "      <td>(52.5170365, 13.3888599)</td>\n",
       "    </tr>\n",
       "    <tr>\n",
       "      <th>...</th>\n",
       "      <td>...</td>\n",
       "      <td>...</td>\n",
       "      <td>...</td>\n",
       "      <td>...</td>\n",
       "      <td>...</td>\n",
       "      <td>...</td>\n",
       "      <td>...</td>\n",
       "      <td>...</td>\n",
       "      <td>...</td>\n",
       "      <td>...</td>\n",
       "      <td>...</td>\n",
       "      <td>...</td>\n",
       "      <td>...</td>\n",
       "      <td>...</td>\n",
       "      <td>...</td>\n",
       "      <td>...</td>\n",
       "      <td>...</td>\n",
       "    </tr>\n",
       "    <tr>\n",
       "      <th>114271</th>\n",
       "      <td>3f4b15fb770e</td>\n",
       "      <td>Rotterdam</td>\n",
       "      <td>v_002</td>\n",
       "      <td>CRF</td>\n",
       "      <td>Dusseldorf</td>\n",
       "      <td>Bordeaux</td>\n",
       "      <td>1681376</td>\n",
       "      <td>645</td>\n",
       "      <td>0</td>\n",
       "      <td>1896.0</td>\n",
       "      <td>3.0</td>\n",
       "      <td>177.3075</td>\n",
       "      <td>896.2065</td>\n",
       "      <td>1073.5140</td>\n",
       "      <td>(51.9244424, 4.47775)</td>\n",
       "      <td>(51.2254018, 6.7763137)</td>\n",
       "      <td>(44.841225, -0.5800364)</td>\n",
       "    </tr>\n",
       "    <tr>\n",
       "      <th>114272</th>\n",
       "      <td>d2e6978a38fd</td>\n",
       "      <td>Barcelona</td>\n",
       "      <td>v_004</td>\n",
       "      <td>DTD</td>\n",
       "      <td>Dusseldorf</td>\n",
       "      <td>Berlin</td>\n",
       "      <td>1676942</td>\n",
       "      <td>502</td>\n",
       "      <td>0</td>\n",
       "      <td>746.0</td>\n",
       "      <td>1.0</td>\n",
       "      <td>1149.4065</td>\n",
       "      <td>477.3717</td>\n",
       "      <td>1626.7782</td>\n",
       "      <td>(41.3828939, 2.1774322)</td>\n",
       "      <td>(51.2254018, 6.7763137)</td>\n",
       "      <td>(52.5170365, 13.3888599)</td>\n",
       "    </tr>\n",
       "    <tr>\n",
       "      <th>114273</th>\n",
       "      <td>b88babd5c7bd</td>\n",
       "      <td>Rotterdam</td>\n",
       "      <td>v_002</td>\n",
       "      <td>DTP</td>\n",
       "      <td>Dusseldorf</td>\n",
       "      <td>Rome</td>\n",
       "      <td>1692737</td>\n",
       "      <td>464</td>\n",
       "      <td>0</td>\n",
       "      <td>572.0</td>\n",
       "      <td>5.0</td>\n",
       "      <td>177.3075</td>\n",
       "      <td>1125.0290</td>\n",
       "      <td>1302.3365</td>\n",
       "      <td>(51.9244424, 4.47775)</td>\n",
       "      <td>(51.2254018, 6.7763137)</td>\n",
       "      <td>(41.8933203, 12.4829321)</td>\n",
       "    </tr>\n",
       "    <tr>\n",
       "      <th>114274</th>\n",
       "      <td>b0b5c761613f</td>\n",
       "      <td>Barcelona</td>\n",
       "      <td>v_003</td>\n",
       "      <td>DTD</td>\n",
       "      <td>Dusseldorf</td>\n",
       "      <td>Munich</td>\n",
       "      <td>1699974</td>\n",
       "      <td>388</td>\n",
       "      <td>0</td>\n",
       "      <td>1894.0</td>\n",
       "      <td>1.0</td>\n",
       "      <td>1149.4065</td>\n",
       "      <td>487.5926</td>\n",
       "      <td>1636.9991</td>\n",
       "      <td>(41.3828939, 2.1774322)</td>\n",
       "      <td>(51.2254018, 6.7763137)</td>\n",
       "      <td>(48.1371079, 11.5753822)</td>\n",
       "    </tr>\n",
       "    <tr>\n",
       "      <th>114275</th>\n",
       "      <td>1ab8e51519e4</td>\n",
       "      <td>Rotterdam</td>\n",
       "      <td>v_002</td>\n",
       "      <td>DTD</td>\n",
       "      <td>Venlo</td>\n",
       "      <td>Bucharest</td>\n",
       "      <td>1620510</td>\n",
       "      <td>482</td>\n",
       "      <td>0</td>\n",
       "      <td>1308.0</td>\n",
       "      <td>4.0</td>\n",
       "      <td>130.0459</td>\n",
       "      <td>1672.4754</td>\n",
       "      <td>1802.5213</td>\n",
       "      <td>(51.9244424, 4.47775)</td>\n",
       "      <td>(51.39244885, 6.1511724144122955)</td>\n",
       "      <td>(44.4361414, 26.1027202)</td>\n",
       "    </tr>\n",
       "  </tbody>\n",
       "</table>\n",
       "<p>114276 rows × 17 columns</p>\n",
       "</div>"
      ],
      "text/plain": [
       "            order_id origin_port    3pl customs_procedures logistic_hub  \\\n",
       "0       366c7a3d298f   Rotterdam  v_002                DTP        Venlo   \n",
       "1       45f906331e10   Rotterdam  v_004                CRF         Rome   \n",
       "2       ac84a6e4af0f      Athens  v_002                CRF        Venlo   \n",
       "3       f5e98cb29790   Rotterdam  v_004                CRF        Lille   \n",
       "4       a9e7c9bee35b   Barcelona  v_002                CRF        Venlo   \n",
       "...              ...         ...    ...                ...          ...   \n",
       "114271  3f4b15fb770e   Rotterdam  v_002                CRF   Dusseldorf   \n",
       "114272  d2e6978a38fd   Barcelona  v_004                DTD   Dusseldorf   \n",
       "114273  b88babd5c7bd   Rotterdam  v_002                DTP   Dusseldorf   \n",
       "114274  b0b5c761613f   Barcelona  v_003                DTD   Dusseldorf   \n",
       "114275  1ab8e51519e4   Rotterdam  v_002                DTD        Venlo   \n",
       "\n",
       "         customer  product_id  units  late_order  weight  material_handling  \\\n",
       "0       Marseille     1692723    583           1  1778.0                5.0   \n",
       "1       Marseille     1644308    459           0  1088.0                3.0   \n",
       "2           Paris     1684170    464           1   505.0                4.0   \n",
       "3           Milan     1620510    678           0  1308.0                4.0   \n",
       "4          Berlin     1699372    353           0  1465.0                0.0   \n",
       "...           ...         ...    ...         ...     ...                ...   \n",
       "114271   Bordeaux     1681376    645           0  1896.0                3.0   \n",
       "114272     Berlin     1676942    502           0   746.0                1.0   \n",
       "114273       Rome     1692737    464           0   572.0                5.0   \n",
       "114274     Munich     1699974    388           0  1894.0                1.0   \n",
       "114275  Bucharest     1620510    482           0  1308.0                4.0   \n",
       "\n",
       "        dist_origin_hub  dist_hub_customer  dist_origin_customer  \\\n",
       "0              130.0459           902.0420             1032.0879   \n",
       "1             1269.2365           604.0216             1873.2581   \n",
       "2             2029.5726           392.9249             2422.4975   \n",
       "3              173.9644           733.8784              907.8428   \n",
       "4             1153.4178           512.8188             1666.2366   \n",
       "...                 ...                ...                   ...   \n",
       "114271         177.3075           896.2065             1073.5140   \n",
       "114272        1149.4065           477.3717             1626.7782   \n",
       "114273         177.3075          1125.0290             1302.3365   \n",
       "114274        1149.4065           487.5926             1636.9991   \n",
       "114275         130.0459          1672.4754             1802.5213   \n",
       "\n",
       "               origin_port_coord                 logistic_hub_coord  \\\n",
       "0          (51.9244424, 4.47775)  (51.39244885, 6.1511724144122955)   \n",
       "1          (51.9244424, 4.47775)           (41.8933203, 12.4829321)   \n",
       "2       (37.9839412, 23.7283052)  (51.39244885, 6.1511724144122955)   \n",
       "3          (51.9244424, 4.47775)            (50.6365654, 3.0635282)   \n",
       "4        (41.3828939, 2.1774322)  (51.39244885, 6.1511724144122955)   \n",
       "...                          ...                                ...   \n",
       "114271     (51.9244424, 4.47775)            (51.2254018, 6.7763137)   \n",
       "114272   (41.3828939, 2.1774322)            (51.2254018, 6.7763137)   \n",
       "114273     (51.9244424, 4.47775)            (51.2254018, 6.7763137)   \n",
       "114274   (41.3828939, 2.1774322)            (51.2254018, 6.7763137)   \n",
       "114275     (51.9244424, 4.47775)  (51.39244885, 6.1511724144122955)   \n",
       "\n",
       "                          customer_coord  \n",
       "0                (43.2961743, 5.3699525)  \n",
       "1                (43.2961743, 5.3699525)  \n",
       "2       (48.8588897, 2.3200410217200766)  \n",
       "3                (45.4641943, 9.1896346)  \n",
       "4               (52.5170365, 13.3888599)  \n",
       "...                                  ...  \n",
       "114271           (44.841225, -0.5800364)  \n",
       "114272          (52.5170365, 13.3888599)  \n",
       "114273          (41.8933203, 12.4829321)  \n",
       "114274          (48.1371079, 11.5753822)  \n",
       "114275          (44.4361414, 26.1027202)  \n",
       "\n",
       "[114276 rows x 17 columns]"
      ]
     },
     "execution_count": 88,
     "metadata": {},
     "output_type": "execute_result"
    }
   ],
   "source": [
    "df"
   ]
  },
  {
   "cell_type": "code",
   "execution_count": 89,
   "metadata": {},
   "outputs": [],
   "source": [
    "df.to_csv('finaldf.csv', index=False)"
   ]
  },
  {
   "cell_type": "code",
   "execution_count": null,
   "metadata": {},
   "outputs": [],
   "source": [
    "x = df[~df['logistic_hub'].isna()]\n",
    "indexes = x[x['dist_hub_customer'].isna()].index\n",
    "\n",
    "for i in indexes:\n",
    "    df.at[i, 'dist_hub_customer'] = 0"
   ]
  },
  {
   "cell_type": "code",
   "execution_count": null,
   "metadata": {},
   "outputs": [],
   "source": [
    "x = df[df['dist_origin_customer'].isna()]\n",
    "indexes = x.index\n",
    "\n",
    "for i in indexes:\n",
    "    df.at[i, 'dist_origin_customer'] = 0"
   ]
  },
  {
   "cell_type": "markdown",
   "metadata": {},
   "source": [
    "# Merge test"
   ]
  },
  {
   "cell_type": "code",
   "execution_count": 160,
   "metadata": {},
   "outputs": [],
   "source": [
    "df_test = df_test.replace('ATHENAS', 'Athens')\n",
    "df_test = df_test.replace('BCN', 'Barcelona')"
   ]
  },
  {
   "cell_type": "code",
   "execution_count": 161,
   "metadata": {},
   "outputs": [],
   "source": [
    "df = pd.merge(df_test, df_products, how='left', left_on=['product_id'], right_on=['product_id'])\n",
    "\n",
    "df = pd.merge(df, df_dists, how='left', left_on=['origin_port', 'logistic_hub'], right_on=['city_from_name', 'city_to_name'])\n",
    "del df['city_from_name']\n",
    "del df['city_to_name']\n",
    "del df['city_from_coord']\n",
    "del df['city_to_coord']\n",
    "df = df.rename(columns={'distance': 'dist_origin_hub'})\n",
    "\n",
    "df = pd.merge(df, df_dists, how='left', left_on=['logistic_hub', 'customer'], right_on=['city_from_name', 'city_to_name'])\n",
    "del df['city_from_name']\n",
    "del df['city_to_name']\n",
    "del df['city_from_coord']\n",
    "del df['city_to_coord']\n",
    "df = df.rename(columns={'distance': 'dist_hub_customer'})\n",
    "\n",
    "df = pd.merge(df, df_dists, how='left', left_on=['origin_port', 'customer'], right_on=['city_from_name', 'city_to_name'])\n",
    "del df['city_from_name']\n",
    "del df['city_to_name']\n",
    "del df['city_from_coord']\n",
    "del df['city_to_coord']\n",
    "df = df.rename(columns={'distance': 'dist_origin_customer'})\n",
    "\n",
    "df = pd.merge(df, df_coord, how='left', left_on=['origin_port'], right_on=['city_from_name'])\n",
    "del df['city_from_name']\n",
    "df = df.rename(columns={'city_from_coord': 'origin_port_coord'})\n",
    "\n",
    "df = pd.merge(df, df_coord, how='left', left_on=['logistic_hub'], right_on=['city_from_name'])\n",
    "del df['city_from_name']\n",
    "df = df.rename(columns={'city_from_coord': 'logistic_hub_coord'})\n",
    "\n",
    "df = pd.merge(df, df_coord, how='left', left_on=['customer'], right_on=['city_from_name'])\n",
    "del df['city_from_name']\n",
    "df = df.rename(columns={'city_from_coord': 'customer_coord'})"
   ]
  },
  {
   "cell_type": "code",
   "execution_count": 162,
   "metadata": {},
   "outputs": [],
   "source": [
    "for i in range(len(df)):\n",
    "    if (not pd.isna(df.at[i, 'dist_origin_hub'])) and (not pd.isna(df.at[i, 'dist_hub_customer'])):\n",
    "        df.at[i, 'dist_origin_customer'] = df.at[i, 'dist_origin_hub'] + df.at[i, 'dist_hub_customer']"
   ]
  },
  {
   "cell_type": "code",
   "execution_count": 168,
   "metadata": {},
   "outputs": [
    {
     "data": {
      "text/plain": [
       "order_id                  0\n",
       "origin_port               0\n",
       "3pl                       0\n",
       "customs_procedures        0\n",
       "logistic_hub            265\n",
       "customer                  0\n",
       "product_id                0\n",
       "units                     0\n",
       "weight                   45\n",
       "material_handling        45\n",
       "dist_origin_hub         265\n",
       "dist_hub_customer       265\n",
       "dist_origin_customer      0\n",
       "origin_port_coord         0\n",
       "logistic_hub_coord      265\n",
       "customer_coord          288\n",
       "dtype: int64"
      ]
     },
     "execution_count": 168,
     "metadata": {},
     "output_type": "execute_result"
    }
   ],
   "source": [
    "df.isnull().sum()"
   ]
  },
  {
   "cell_type": "code",
   "execution_count": 165,
   "metadata": {},
   "outputs": [],
   "source": [
    "x = df[~df['logistic_hub'].isna()]\n",
    "indexes = x[x['dist_hub_customer'].isna()].index\n",
    "\n",
    "for i in indexes:\n",
    "    df.at[i, 'dist_hub_customer'] = 0"
   ]
  },
  {
   "cell_type": "code",
   "execution_count": 167,
   "metadata": {},
   "outputs": [],
   "source": [
    "x = df[df['dist_origin_customer'].isna()]\n",
    "indexes = x.index\n",
    "\n",
    "for i in indexes:\n",
    "    df.at[i, 'dist_origin_customer'] = 0"
   ]
  },
  {
   "cell_type": "code",
   "execution_count": 169,
   "metadata": {},
   "outputs": [],
   "source": [
    "df.to_csv('finaltest.csv', index=False)"
   ]
  },
  {
   "cell_type": "markdown",
   "metadata": {},
   "source": [
    "# Data preprocessing"
   ]
  },
  {
   "cell_type": "code",
   "execution_count": 170,
   "metadata": {},
   "outputs": [],
   "source": [
    "from sklearn.preprocessing import OneHotEncoder, StandardScaler\n",
    "from sklearn.compose import ColumnTransformer\n",
    "from sklearn.linear_model import LogisticRegression\n",
    "from sklearn.pipeline import make_pipeline\n",
    "from sklearn.model_selection import train_test_split\n",
    "from sklearn.model_selection import cross_validate"
   ]
  },
  {
   "cell_type": "code",
   "execution_count": 171,
   "metadata": {},
   "outputs": [],
   "source": [
    "df = pd.read_csv('finaldf.csv')\n",
    "not_useful = ['order_id', 'origin_port_coord',\n",
    "       'logistic_hub_coord', 'customer_coord']\n",
    "for col in not_useful:\n",
    "    del df[col]\n",
    "df = df.dropna().reset_index().drop(columns=['index'])"
   ]
  },
  {
   "cell_type": "code",
   "execution_count": 172,
   "metadata": {},
   "outputs": [
    {
     "data": {
      "text/plain": [
       "113109"
      ]
     },
     "execution_count": 172,
     "metadata": {},
     "output_type": "execute_result"
    }
   ],
   "source": [
    "len(df)"
   ]
  },
  {
   "cell_type": "code",
   "execution_count": 173,
   "metadata": {},
   "outputs": [],
   "source": [
    "categorical_columns = ['origin_port', '3pl', 'customs_procedures', 'logistic_hub', 'product_id', 'customer', 'material_handling']\n",
    "numerical_columns = ['units', 'weight', 'dist_origin_hub', 'dist_hub_customer']\n",
    "\n",
    "target = df['late_order']\n",
    "data = df.drop(columns=['late_order'])"
   ]
  },
  {
   "cell_type": "code",
   "execution_count": 174,
   "metadata": {},
   "outputs": [],
   "source": [
    "categorical_preprocessor = OneHotEncoder(handle_unknown=\"ignore\")\n",
    "numerical_preprocessor = StandardScaler()\n",
    "\n",
    "preprocessor = ColumnTransformer([\n",
    "    ('one-hot-encoder', categorical_preprocessor, categorical_columns),\n",
    "    ('standard_scaler', numerical_preprocessor, numerical_columns)])\n",
    "\n"
   ]
  },
  {
   "cell_type": "code",
   "execution_count": 144,
   "metadata": {
    "collapsed": true,
    "jupyter": {
     "outputs_hidden": true
    },
    "tags": []
   },
   "outputs": [
    {
     "name": "stderr",
     "output_type": "stream",
     "text": [
      "C:\\Users\\thoma\\anaconda3\\lib\\site-packages\\sklearn\\linear_model\\_logistic.py:763: ConvergenceWarning: lbfgs failed to converge (status=1):\n",
      "STOP: TOTAL NO. of ITERATIONS REACHED LIMIT.\n",
      "\n",
      "Increase the number of iterations (max_iter) or scale the data as shown in:\n",
      "    https://scikit-learn.org/stable/modules/preprocessing.html\n",
      "Please also refer to the documentation for alternative solver options:\n",
      "    https://scikit-learn.org/stable/modules/linear_model.html#logistic-regression\n",
      "  n_iter_i = _check_optimize_result(\n",
      "C:\\Users\\thoma\\anaconda3\\lib\\site-packages\\sklearn\\linear_model\\_logistic.py:763: ConvergenceWarning: lbfgs failed to converge (status=1):\n",
      "STOP: TOTAL NO. of ITERATIONS REACHED LIMIT.\n",
      "\n",
      "Increase the number of iterations (max_iter) or scale the data as shown in:\n",
      "    https://scikit-learn.org/stable/modules/preprocessing.html\n",
      "Please also refer to the documentation for alternative solver options:\n",
      "    https://scikit-learn.org/stable/modules/linear_model.html#logistic-regression\n",
      "  n_iter_i = _check_optimize_result(\n",
      "C:\\Users\\thoma\\anaconda3\\lib\\site-packages\\sklearn\\linear_model\\_logistic.py:763: ConvergenceWarning: lbfgs failed to converge (status=1):\n",
      "STOP: TOTAL NO. of ITERATIONS REACHED LIMIT.\n",
      "\n",
      "Increase the number of iterations (max_iter) or scale the data as shown in:\n",
      "    https://scikit-learn.org/stable/modules/preprocessing.html\n",
      "Please also refer to the documentation for alternative solver options:\n",
      "    https://scikit-learn.org/stable/modules/linear_model.html#logistic-regression\n",
      "  n_iter_i = _check_optimize_result(\n",
      "C:\\Users\\thoma\\anaconda3\\lib\\site-packages\\sklearn\\linear_model\\_logistic.py:763: ConvergenceWarning: lbfgs failed to converge (status=1):\n",
      "STOP: TOTAL NO. of ITERATIONS REACHED LIMIT.\n",
      "\n",
      "Increase the number of iterations (max_iter) or scale the data as shown in:\n",
      "    https://scikit-learn.org/stable/modules/preprocessing.html\n",
      "Please also refer to the documentation for alternative solver options:\n",
      "    https://scikit-learn.org/stable/modules/linear_model.html#logistic-regression\n",
      "  n_iter_i = _check_optimize_result(\n",
      "C:\\Users\\thoma\\anaconda3\\lib\\site-packages\\sklearn\\linear_model\\_logistic.py:763: ConvergenceWarning: lbfgs failed to converge (status=1):\n",
      "STOP: TOTAL NO. of ITERATIONS REACHED LIMIT.\n",
      "\n",
      "Increase the number of iterations (max_iter) or scale the data as shown in:\n",
      "    https://scikit-learn.org/stable/modules/preprocessing.html\n",
      "Please also refer to the documentation for alternative solver options:\n",
      "    https://scikit-learn.org/stable/modules/linear_model.html#logistic-regression\n",
      "  n_iter_i = _check_optimize_result(\n",
      "C:\\Users\\thoma\\anaconda3\\lib\\site-packages\\sklearn\\linear_model\\_logistic.py:763: ConvergenceWarning: lbfgs failed to converge (status=1):\n",
      "STOP: TOTAL NO. of ITERATIONS REACHED LIMIT.\n",
      "\n",
      "Increase the number of iterations (max_iter) or scale the data as shown in:\n",
      "    https://scikit-learn.org/stable/modules/preprocessing.html\n",
      "Please also refer to the documentation for alternative solver options:\n",
      "    https://scikit-learn.org/stable/modules/linear_model.html#logistic-regression\n",
      "  n_iter_i = _check_optimize_result(\n",
      "C:\\Users\\thoma\\anaconda3\\lib\\site-packages\\sklearn\\linear_model\\_logistic.py:763: ConvergenceWarning: lbfgs failed to converge (status=1):\n",
      "STOP: TOTAL NO. of ITERATIONS REACHED LIMIT.\n",
      "\n",
      "Increase the number of iterations (max_iter) or scale the data as shown in:\n",
      "    https://scikit-learn.org/stable/modules/preprocessing.html\n",
      "Please also refer to the documentation for alternative solver options:\n",
      "    https://scikit-learn.org/stable/modules/linear_model.html#logistic-regression\n",
      "  n_iter_i = _check_optimize_result(\n",
      "C:\\Users\\thoma\\anaconda3\\lib\\site-packages\\sklearn\\linear_model\\_logistic.py:763: ConvergenceWarning: lbfgs failed to converge (status=1):\n",
      "STOP: TOTAL NO. of ITERATIONS REACHED LIMIT.\n",
      "\n",
      "Increase the number of iterations (max_iter) or scale the data as shown in:\n",
      "    https://scikit-learn.org/stable/modules/preprocessing.html\n",
      "Please also refer to the documentation for alternative solver options:\n",
      "    https://scikit-learn.org/stable/modules/linear_model.html#logistic-regression\n",
      "  n_iter_i = _check_optimize_result(\n",
      "C:\\Users\\thoma\\anaconda3\\lib\\site-packages\\sklearn\\linear_model\\_logistic.py:763: ConvergenceWarning: lbfgs failed to converge (status=1):\n",
      "STOP: TOTAL NO. of ITERATIONS REACHED LIMIT.\n",
      "\n",
      "Increase the number of iterations (max_iter) or scale the data as shown in:\n",
      "    https://scikit-learn.org/stable/modules/preprocessing.html\n",
      "Please also refer to the documentation for alternative solver options:\n",
      "    https://scikit-learn.org/stable/modules/linear_model.html#logistic-regression\n",
      "  n_iter_i = _check_optimize_result(\n",
      "C:\\Users\\thoma\\anaconda3\\lib\\site-packages\\sklearn\\linear_model\\_logistic.py:763: ConvergenceWarning: lbfgs failed to converge (status=1):\n",
      "STOP: TOTAL NO. of ITERATIONS REACHED LIMIT.\n",
      "\n",
      "Increase the number of iterations (max_iter) or scale the data as shown in:\n",
      "    https://scikit-learn.org/stable/modules/preprocessing.html\n",
      "Please also refer to the documentation for alternative solver options:\n",
      "    https://scikit-learn.org/stable/modules/linear_model.html#logistic-regression\n",
      "  n_iter_i = _check_optimize_result(\n"
     ]
    }
   ],
   "source": [
    "model = make_pipeline(preprocessor, LogisticRegression(max_iter=50))\n",
    "cv_results = cross_validate(model, data, target, cv=5)\n",
    "cv_results['test_score'].mean()"
   ]
  },
  {
   "cell_type": "code",
   "execution_count": 145,
   "metadata": {},
   "outputs": [
    {
     "data": {
      "text/plain": [
       "0.8218709500958395"
      ]
     },
     "execution_count": 145,
     "metadata": {},
     "output_type": "execute_result"
    }
   ],
   "source": [
    "cv_results['test_score'].mean()"
   ]
  },
  {
   "cell_type": "code",
   "execution_count": 323,
   "metadata": {},
   "outputs": [],
   "source": [
    "x = np.squeeze(np.asarray(preprocessor.fit_transform(data).todense()))\n",
    "y = list(target.values)\n",
    "y = [[e] for e in y]\n",
    "y = torch.tensor(y, dtype=torch.float32)"
   ]
  },
  {
   "cell_type": "code",
   "execution_count": 216,
   "metadata": {},
   "outputs": [],
   "source": [
    "padding = np.zeros(1024-len(x[0]))"
   ]
  },
  {
   "cell_type": "code",
   "execution_count": 329,
   "metadata": {},
   "outputs": [],
   "source": [
    "z = []\n",
    "for i in range(len(x)):\n",
    "    z.append(list(np.concatenate((x[i], padding))))\n",
    "x = torch.tensor(z, dtype=torch.float32)"
   ]
  },
  {
   "cell_type": "code",
   "execution_count": 324,
   "metadata": {},
   "outputs": [
    {
     "data": {
      "text/plain": [
       "tensor([[1.],\n",
       "        [0.],\n",
       "        [1.],\n",
       "        ...,\n",
       "        [0.],\n",
       "        [0.],\n",
       "        [0.]])"
      ]
     },
     "execution_count": 324,
     "metadata": {},
     "output_type": "execute_result"
    }
   ],
   "source": [
    "y"
   ]
  },
  {
   "cell_type": "markdown",
   "metadata": {},
   "source": [
    "# Papi DL"
   ]
  },
  {
   "cell_type": "code",
   "execution_count": 274,
   "metadata": {},
   "outputs": [],
   "source": [
    "import math\n",
    "\n",
    "import torch\n",
    "import torch.nn as nn\n",
    "\n",
    "from sklearn.model_selection import train_test_split\n",
    "\n",
    "device = torch.device(\"cuda\" if torch.cuda.is_available() else \"cpu\")"
   ]
  },
  {
   "cell_type": "code",
   "execution_count": 336,
   "metadata": {},
   "outputs": [],
   "source": [
    "x_train, x_test, y_train, y_test = train_test_split(x, y, test_size=0.2)"
   ]
  },
  {
   "cell_type": "code",
   "execution_count": 332,
   "metadata": {},
   "outputs": [
    {
     "data": {
      "text/plain": [
       "1024"
      ]
     },
     "execution_count": 332,
     "metadata": {},
     "output_type": "execute_result"
    }
   ],
   "source": [
    "d_model"
   ]
  },
  {
   "cell_type": "code",
   "execution_count": 335,
   "metadata": {},
   "outputs": [],
   "source": [
    "d_model = len(x[0])\n",
    "\n",
    "class Net(nn.Module):\n",
    "    \"\"\"\n",
    "    Text classifier based on a pytorch TransformerEncoder.\n",
    "    \"\"\"\n",
    "\n",
    "    def __init__(\n",
    "        self,\n",
    "        nhead=4,\n",
    "        dim_feedforward=1024,\n",
    "        num_layers=4,\n",
    "        dropout=0.1,\n",
    "        activation=\"relu\",\n",
    "        classifier_dropout=0.1,\n",
    "    ):\n",
    "\n",
    "        super().__init__()\n",
    "\n",
    "        encoder_layer = nn.TransformerEncoderLayer(\n",
    "            d_model=d_model,\n",
    "            nhead=nhead,\n",
    "            dim_feedforward=dim_feedforward,\n",
    "            dropout=dropout,\n",
    "            batch_first=True\n",
    "        )\n",
    "        self.transformer_encoder = nn.TransformerEncoder(\n",
    "            encoder_layer,\n",
    "            num_layers=num_layers,\n",
    "        )\n",
    "        self.classifier = nn.Linear(d_model, 1)\n",
    "        self.d_model = d_model\n",
    "\n",
    "    def forward(self, x):\n",
    "        x = self.transformer_encoder(x)\n",
    "        x = torch.sigmoid(self.classifier(x))\n",
    "\n",
    "        return x"
   ]
  },
  {
   "cell_type": "code",
   "execution_count": 352,
   "metadata": {},
   "outputs": [],
   "source": [
    "batch = 0\n",
    "epoch_loss = 0\n",
    "epoch_correct = 0\n",
    "epoch_count = 0\n",
    "predictions = model(x_train[batch*batch_size : (batch+1)*batch_size].to(device))\n",
    "labels = y_train[batch*batch_size : (batch+1)*batch_size].to(device)\n",
    "\n",
    "loss = criterion(predictions, labels)\n",
    "\n",
    "correct = predictions.round() == labels\n",
    "acc = correct.sum().item() / correct.size(0)\n",
    "\n",
    "epoch_correct += correct.sum().item()\n",
    "epoch_count += correct.size(0)"
   ]
  },
  {
   "cell_type": "code",
   "execution_count": 353,
   "metadata": {},
   "outputs": [
    {
     "data": {
      "text/plain": [
       "0.8212890625"
      ]
     },
     "execution_count": 353,
     "metadata": {},
     "output_type": "execute_result"
    }
   ],
   "source": [
    "epoch_correct / epoch_count"
   ]
  },
  {
   "cell_type": "code",
   "execution_count": null,
   "metadata": {},
   "outputs": [
    {
     "name": "stdout",
     "output_type": "stream",
     "text": [
      "starting\n",
      "epoch=0\n",
      "epoch_loss=41.24223405122757\n",
      "epoch accuracy: 0.7934509929603147\n",
      "test_epoch_loss=9.014346450567245\n",
      "test epoch accuracy: 0.8295464591990098\n",
      "epoch=1\n",
      "epoch_loss=35.61620703339577\n",
      "epoch accuracy: 0.825488744239504\n",
      "test_epoch_loss=8.3587726354599\n",
      "test epoch accuracy: 0.8333480682521439\n",
      "epoch=2\n"
     ]
    }
   ],
   "source": [
    "epochs = 50\n",
    "model = Net().to(device)\n",
    "\n",
    "criterion = nn.BCELoss()\n",
    "\n",
    "lr = 1e-4\n",
    "optimizer = torch.optim.Adam(\n",
    "    (p for p in model.parameters() if p.requires_grad), lr=lr\n",
    ")\n",
    "\n",
    "torch.manual_seed(0)\n",
    "\n",
    "batch_size=1024\n",
    "batches = math.ceil(len(x_train)/batch_size)\n",
    "\n",
    "print(\"starting\")\n",
    "for epoch in range(epochs):\n",
    "    print(f\"{epoch=}\")\n",
    "    epoch_loss = 0\n",
    "    epoch_correct = 0\n",
    "    epoch_count = 0\n",
    "    for batch in range(math.ceil(len(x_train)/batch_size)):\n",
    "        optimizer.zero_grad()\n",
    "        predictions = model(x_train[batch*batch_size : (batch+1)*batch_size].to(device))\n",
    "        labels = y_train[batch*batch_size : (batch+1)*batch_size].to(device)\n",
    "\n",
    "        loss = criterion(predictions, labels)\n",
    "\n",
    "        correct = predictions.round() == labels\n",
    "        acc = correct.sum().item() / correct.size(0)\n",
    "\n",
    "        epoch_correct += correct.sum().item()\n",
    "        epoch_count += correct.size(0)\n",
    "\n",
    "        epoch_loss += loss.item()\n",
    "\n",
    "        loss.backward()\n",
    "\n",
    "        optimizer.step()\n",
    "\n",
    "    with torch.no_grad():\n",
    "        test_epoch_loss = 0\n",
    "        test_epoch_correct = 0\n",
    "        test_epoch_count = 0\n",
    "\n",
    "        for batch in range(math.ceil(len(x_test)/batch_size)):\n",
    "            predictions = model(x_test[batch*batch_size : (batch+1)*batch_size].to(device))\n",
    "            labels = y_test[batch*batch_size : (batch+1)*batch_size].to(device)\n",
    "            test_loss = criterion(predictions, labels)\n",
    "\n",
    "            correct = predictions.round() == labels\n",
    "            acc = correct.sum().item() / correct.size(0)\n",
    "\n",
    "            test_epoch_correct += correct.sum().item()\n",
    "            test_epoch_count += correct.size(0)\n",
    "            test_epoch_loss += loss.item()\n",
    "\n",
    "    print(f\"{epoch_loss=}\")\n",
    "    print(f\"epoch accuracy: {epoch_correct / epoch_count}\")\n",
    "    print(f\"{test_epoch_loss=}\")\n",
    "    print(f\"test epoch accuracy: {test_epoch_correct / test_epoch_count}\")"
   ]
  },
  {
   "cell_type": "code",
   "execution_count": 310,
   "metadata": {},
   "outputs": [
    {
     "data": {
      "text/plain": [
       "tensor([0., 0., 0.,  ..., 0., 0., 0.])"
      ]
     },
     "execution_count": 310,
     "metadata": {},
     "output_type": "execute_result"
    }
   ],
   "source": [
    "labels"
   ]
  }
 ],
 "metadata": {
  "kernelspec": {
   "display_name": "Python 3",
   "language": "python",
   "name": "python3"
  },
  "language_info": {
   "codemirror_mode": {
    "name": "ipython",
    "version": 3
   },
   "file_extension": ".py",
   "mimetype": "text/x-python",
   "name": "python",
   "nbconvert_exporter": "python",
   "pygments_lexer": "ipython3",
   "version": "3.8.8"
  }
 },
 "nbformat": 4,
 "nbformat_minor": 4
}
