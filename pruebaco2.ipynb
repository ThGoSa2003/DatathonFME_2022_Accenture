{
 "cells": [
  {
   "cell_type": "code",
   "execution_count": 1,
   "metadata": {},
   "outputs": [],
   "source": [
    "import pandas as pd\n",
    "import numpy as np\n",
    "import matplotlib.pyplot as plt"
   ]
  },
  {
   "cell_type": "code",
   "execution_count": 17,
   "metadata": {},
   "outputs": [
    {
     "name": "stdout",
     "output_type": "stream",
     "text": [
      "weight_class\n",
      "0    390.878754\n",
      "1    429.966682\n",
      "2    469.054399\n",
      "3    508.142237\n",
      "4    547.230240\n",
      "5    586.317913\n",
      "6    625.406006\n",
      "7    664.493919\n",
      "8    703.581652\n",
      "9    742.669505\n",
      "Name: cost_per_unit, dtype: float64\n",
      "weight_class\n",
      "0    0.514292\n",
      "1    0.514292\n",
      "2    0.514292\n",
      "3    0.514292\n",
      "4    0.514292\n",
      "5    0.514292\n",
      "6    0.514292\n",
      "7    0.514292\n",
      "8    0.514292\n",
      "9    0.514292\n",
      "dtype: float64\n"
     ]
    }
   ],
   "source": [
    "df = pd.read_csv(\"cities_data_costs.csv\")\n",
    "df.head()\n",
    "\n",
    "avg_cost = df['cost_per_unit'].groupby(df['weight_class']).mean()\n",
    "print(avg_cost)\n",
    "avg_cost_dist = df['cost_per_unit'].groupby(df['weight_class']).mean()/df['co2_per_unit'].groupby(df['weight_class']).mean()\n",
    "print(avg_cost_dist)"
   ]
  }
 ],
 "metadata": {
  "kernelspec": {
   "display_name": "Python 3.10.6 64-bit",
   "language": "python",
   "name": "python3"
  },
  "language_info": {
   "codemirror_mode": {
    "name": "ipython",
    "version": 3
   },
   "file_extension": ".py",
   "mimetype": "text/x-python",
   "name": "python",
   "nbconvert_exporter": "python",
   "pygments_lexer": "ipython3",
   "version": "3.10.6"
  },
  "orig_nbformat": 4,
  "vscode": {
   "interpreter": {
    "hash": "916dbcbb3f70747c44a77c7bcd40155683ae19c65e1c03b4aa3499c5328201f1"
   }
  }
 },
 "nbformat": 4,
 "nbformat_minor": 2
}
