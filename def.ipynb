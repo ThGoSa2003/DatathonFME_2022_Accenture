{
 "cells": [
  {
   "cell_type": "markdown",
   "metadata": {},
   "source": [
    "# IMPORTS"
   ]
  },
  {
   "cell_type": "code",
   "execution_count": 2,
   "metadata": {},
   "outputs": [],
   "source": [
    "import pandas as pd\n",
    "import numpy as np\n",
    "import sklearn as sk\n",
    "import sklearn.model_selection as skms\n",
    "import matplotlib.pyplot as plt"
   ]
  },
  {
   "cell_type": "markdown",
   "metadata": {},
   "source": [
    "# DATA IMPORTS"
   ]
  },
  {
   "cell_type": "code",
   "execution_count": 4,
   "metadata": {},
   "outputs": [
    {
     "name": "stdout",
     "output_type": "stream",
     "text": [
      "       order_id origin_port    3pl customs_procedures logistic_hub  \\\n",
      "0  0e364fa5c795   Rotterdam  v_002                CRF       Warsaw   \n",
      "1  3ef49bd5a55b   Barcelona  v_002                CRF        Venlo   \n",
      "2  9ab5b9685bd5   Rotterdam  v_004                DTD   Bratislava   \n",
      "3  bfce5b4fc4fa   Rotterdam  v_002                DTD         Rome   \n",
      "4  d94453ec8ec5   Barcelona  v_001                CRF   Bratislava   \n",
      "\n",
      "     customer  product_id  units  weight  material_handling  dist_origin_hub  \\\n",
      "0      Munich     1687644    477  1974.0                5.0        1135.6449   \n",
      "1      Berlin     1699689    240  2369.0                0.0        1153.4178   \n",
      "2       Paris     1652615    506   850.0                5.0         995.7185   \n",
      "3     Hanover     1669740    553  2072.0                2.0        1269.2365   \n",
      "4  Copenhagen     1695138    482   357.0                2.0        1397.4140   \n",
      "\n",
      "   dist_hub_customer  dist_origin_customer        origin_port_coord  \\\n",
      "0           816.0497             1951.6946    (51.9244424, 4.47775)   \n",
      "1           512.8188             1666.2366  (41.3828939, 2.1774322)   \n",
      "2          1093.9242             2089.6427    (51.9244424, 4.47775)   \n",
      "3          1183.4477             2452.6842    (51.9244424, 4.47775)   \n",
      "4           894.1859             2291.5999  (41.3828939, 2.1774322)   \n",
      "\n",
      "                  logistic_hub_coord                    customer_coord  \\\n",
      "0   (52.2337172, 21.071432235636493)          (48.1371079, 11.5753822)   \n",
      "1  (51.39244885, 6.1511724144122955)          (52.5170365, 13.3888599)   \n",
      "2           (48.1516988, 17.1093063)  (48.8588897, 2.3200410217200766)   \n",
      "3           (41.8933203, 12.4829321)           (52.3744779, 9.7385532)   \n",
      "4           (48.1516988, 17.1093063)          (55.6867243, 12.5700724)   \n",
      "\n",
      "   late_order  \n",
      "0        True  \n",
      "1        True  \n",
      "2        True  \n",
      "3        True  \n",
      "4        True  \n"
     ]
    },
    {
     "ename": "NameError",
     "evalue": "name 'n' is not defined",
     "output_type": "error",
     "traceback": [
      "\u001b[0;31m---------------------------------------------------------------------------\u001b[0m",
      "\u001b[0;31mNameError\u001b[0m                                 Traceback (most recent call last)",
      "Cell \u001b[0;32mIn [4], line 13\u001b[0m\n\u001b[1;32m     11\u001b[0m df_def\u001b[39m.\u001b[39mtail()\n\u001b[1;32m     12\u001b[0m k \u001b[39m=\u001b[39m \u001b[39mlen\u001b[39m(df_def)\n\u001b[0;32m---> 13\u001b[0m \u001b[39mprint\u001b[39m(n, m, k)\n",
      "\u001b[0;31mNameError\u001b[0m: name 'n' is not defined"
     ]
    }
   ],
   "source": [
    "# Read the data\n",
    "df = pd.read_csv('finaldf.csv')\n",
    "\n",
    "\n",
    "df_test = pd.read_csv('finaltest.csv')\n",
    "df_test['weight'] = df_test['weight'].fillna(df_test['weight'].mean())\n",
    "df_test['late_order'] = True\n",
    "print(df_test.head())\n",
    "m = len(df_test)\n",
    "df_def = pd.concat([df, df_test])\n",
    "df_def.tail()\n",
    "k = len(df_def)\n",
    "print(n, m, k)"
   ]
  },
  {
   "cell_type": "code",
   "execution_count": 14,
   "metadata": {},
   "outputs": [
    {
     "name": "stdout",
     "output_type": "stream",
     "text": [
      "3pl    customer\n",
      "v_001  Berlin      703\n",
      "       Milan       692\n",
      "       Madrid      648\n",
      "       Vienna      469\n",
      "       Paris       452\n",
      "                  ... \n",
      "v_004  Prague      629\n",
      "       Bordeaux    628\n",
      "       Bremen      623\n",
      "       Helsinki    615\n",
      "       Porto       433\n",
      "Name: customer, Length: 112, dtype: int64\n"
     ]
    }
   ],
   "source": [
    "df.head()\n",
    "avg = df[\"customer\"].groupby(df['3pl']).value_counts()\n",
    "print(avg)\n"
   ]
  },
  {
   "cell_type": "code",
   "execution_count": 133,
   "metadata": {},
   "outputs": [
    {
     "name": "stdout",
     "output_type": "stream",
     "text": [
      "82875 82875\n"
     ]
    }
   ],
   "source": [
    "df_true = df[df['late_order'] == 1]\n",
    "z = len(df_true)\n",
    "df_false = df[df['late_order'] == 0].head(z)\n",
    "\n",
    "df = pd.concat([df_true, df_false, df_test])\n",
    "print(len(df),2*z + m)"
   ]
  },
  {
   "cell_type": "markdown",
   "metadata": {},
   "source": [
    "# ANALISIS"
   ]
  },
  {
   "cell_type": "code",
   "execution_count": 135,
   "metadata": {},
   "outputs": [
    {
     "name": "stdout",
     "output_type": "stream",
     "text": [
      "43449 43449\n"
     ]
    }
   ],
   "source": [
    "\n",
    "\n",
    "def get_X_y(df, target):\n",
    "\n",
    "    X = df.drop(['order_id', \"logistic_hub\", 'dist_origin_hub',\n",
    "                \"origin_port_coord\", \"logistic_hub_coord\", \"customer_coord\", \"dist_hub_customer\", \n",
    "                'material_handling'], axis=1).dropna()\n",
    "    if target:\n",
    "        y = X['late_order']\n",
    "        X = X.drop(['late_order'], axis=1)\n",
    "    X['total_weight'] = X['weight']*X['units']\n",
    "    X = X.drop([\"units\", \"weight\"], axis=1)\n",
    "\n",
    "    return X if not target else (X, y)\n",
    "\n",
    "X, y = get_X_y(df, True)\n",
    "y = y.head(2*z)\n",
    "\n",
    "X_enc = pd.get_dummies(X, columns= [\"3pl\", \"origin_port\", \"customs_procedures\", \"customer\"])\n",
    "X_ori_enc = X_enc.head(2*z) \n",
    "X_test_enc = X_enc.tail(m)\n",
    "\n",
    "X_train_enc, X_val_enc, y_train, y_val = skms.train_test_split(X_ori_enc, y, test_size=0.2)\n",
    "\n",
    "print(len(X_train_enc), len(y_train))\n"
   ]
  },
  {
   "cell_type": "code",
   "execution_count": 136,
   "metadata": {},
   "outputs": [
    {
     "data": {
      "text/html": [
       "<style>#sk-container-id-14 {color: black;background-color: white;}#sk-container-id-14 pre{padding: 0;}#sk-container-id-14 div.sk-toggleable {background-color: white;}#sk-container-id-14 label.sk-toggleable__label {cursor: pointer;display: block;width: 100%;margin-bottom: 0;padding: 0.3em;box-sizing: border-box;text-align: center;}#sk-container-id-14 label.sk-toggleable__label-arrow:before {content: \"▸\";float: left;margin-right: 0.25em;color: #696969;}#sk-container-id-14 label.sk-toggleable__label-arrow:hover:before {color: black;}#sk-container-id-14 div.sk-estimator:hover label.sk-toggleable__label-arrow:before {color: black;}#sk-container-id-14 div.sk-toggleable__content {max-height: 0;max-width: 0;overflow: hidden;text-align: left;background-color: #f0f8ff;}#sk-container-id-14 div.sk-toggleable__content pre {margin: 0.2em;color: black;border-radius: 0.25em;background-color: #f0f8ff;}#sk-container-id-14 input.sk-toggleable__control:checked~div.sk-toggleable__content {max-height: 200px;max-width: 100%;overflow: auto;}#sk-container-id-14 input.sk-toggleable__control:checked~label.sk-toggleable__label-arrow:before {content: \"▾\";}#sk-container-id-14 div.sk-estimator input.sk-toggleable__control:checked~label.sk-toggleable__label {background-color: #d4ebff;}#sk-container-id-14 div.sk-label input.sk-toggleable__control:checked~label.sk-toggleable__label {background-color: #d4ebff;}#sk-container-id-14 input.sk-hidden--visually {border: 0;clip: rect(1px 1px 1px 1px);clip: rect(1px, 1px, 1px, 1px);height: 1px;margin: -1px;overflow: hidden;padding: 0;position: absolute;width: 1px;}#sk-container-id-14 div.sk-estimator {font-family: monospace;background-color: #f0f8ff;border: 1px dotted black;border-radius: 0.25em;box-sizing: border-box;margin-bottom: 0.5em;}#sk-container-id-14 div.sk-estimator:hover {background-color: #d4ebff;}#sk-container-id-14 div.sk-parallel-item::after {content: \"\";width: 100%;border-bottom: 1px solid gray;flex-grow: 1;}#sk-container-id-14 div.sk-label:hover label.sk-toggleable__label {background-color: #d4ebff;}#sk-container-id-14 div.sk-serial::before {content: \"\";position: absolute;border-left: 1px solid gray;box-sizing: border-box;top: 0;bottom: 0;left: 50%;z-index: 0;}#sk-container-id-14 div.sk-serial {display: flex;flex-direction: column;align-items: center;background-color: white;padding-right: 0.2em;padding-left: 0.2em;position: relative;}#sk-container-id-14 div.sk-item {position: relative;z-index: 1;}#sk-container-id-14 div.sk-parallel {display: flex;align-items: stretch;justify-content: center;background-color: white;position: relative;}#sk-container-id-14 div.sk-item::before, #sk-container-id-14 div.sk-parallel-item::before {content: \"\";position: absolute;border-left: 1px solid gray;box-sizing: border-box;top: 0;bottom: 0;left: 50%;z-index: -1;}#sk-container-id-14 div.sk-parallel-item {display: flex;flex-direction: column;z-index: 1;position: relative;background-color: white;}#sk-container-id-14 div.sk-parallel-item:first-child::after {align-self: flex-end;width: 50%;}#sk-container-id-14 div.sk-parallel-item:last-child::after {align-self: flex-start;width: 50%;}#sk-container-id-14 div.sk-parallel-item:only-child::after {width: 0;}#sk-container-id-14 div.sk-dashed-wrapped {border: 1px dashed gray;margin: 0 0.4em 0.5em 0.4em;box-sizing: border-box;padding-bottom: 0.4em;background-color: white;}#sk-container-id-14 div.sk-label label {font-family: monospace;font-weight: bold;display: inline-block;line-height: 1.2em;}#sk-container-id-14 div.sk-label-container {text-align: center;}#sk-container-id-14 div.sk-container {/* jupyter's `normalize.less` sets `[hidden] { display: none; }` but bootstrap.min.css set `[hidden] { display: none !important; }` so we also need the `!important` here to be able to override the default hidden behavior on the sphinx rendered scikit-learn.org. See: https://github.com/scikit-learn/scikit-learn/issues/21755 */display: inline-block !important;position: relative;}#sk-container-id-14 div.sk-text-repr-fallback {display: none;}</style><div id=\"sk-container-id-14\" class=\"sk-top-container\"><div class=\"sk-text-repr-fallback\"><pre>DecisionTreeClassifier(criterion=&#x27;entropy&#x27;, max_depth=3)</pre><b>In a Jupyter environment, please rerun this cell to show the HTML representation or trust the notebook. <br />On GitHub, the HTML representation is unable to render, please try loading this page with nbviewer.org.</b></div><div class=\"sk-container\" hidden><div class=\"sk-item\"><div class=\"sk-estimator sk-toggleable\"><input class=\"sk-toggleable__control sk-hidden--visually\" id=\"sk-estimator-id-14\" type=\"checkbox\" checked><label for=\"sk-estimator-id-14\" class=\"sk-toggleable__label sk-toggleable__label-arrow\">DecisionTreeClassifier</label><div class=\"sk-toggleable__content\"><pre>DecisionTreeClassifier(criterion=&#x27;entropy&#x27;, max_depth=3)</pre></div></div></div></div></div>"
      ],
      "text/plain": [
       "DecisionTreeClassifier(criterion='entropy', max_depth=3)"
      ]
     },
     "execution_count": 136,
     "metadata": {},
     "output_type": "execute_result"
    }
   ],
   "source": [
    "from sklearn.tree import DecisionTreeClassifier\n",
    "xval = [i for i in range(2, 30)]\n",
    "rc = np.array([None for _ in range(2, 30)])\n",
    "\n",
    "for i in range(2, 30):\n",
    "    modelt = DecisionTreeClassifier(criterion=\"entropy\", max_depth=i)\n",
    "    modelt.fit(X_train_enc, y_train)\n",
    "    y_pred = np.array(modelt.predict_proba(X_val_enc)) \n",
    "    rc[i-2] = sk.metrics.roc_auc_score(y_val, y_pred.T[1])\n",
    "\n",
    "defmodel = DecisionTreeClassifier(criterion=\"entropy\", max_depth=3)\n",
    "defmodel.fit(X_train_enc, y_train)"
   ]
  },
  {
   "cell_type": "code",
   "execution_count": 137,
   "metadata": {},
   "outputs": [
    {
     "name": "stdout",
     "output_type": "stream",
     "text": [
      "[0.6821371025916527 0.7036450827589985 0.7213135913017491\n",
      " 0.7345186034863079 0.7452306015207241 0.7546062439016189\n",
      " 0.7618000624550164 0.7681039885514503 0.7650834932449326\n",
      " 0.7618201813500589 0.7551622338882058 0.7498620999746709\n",
      " 0.7434015109069836 0.7332987238620469 0.7258657836816405\n",
      " 0.7132952200895252 0.7054452408084277 0.6991731795162732\n",
      " 0.6879871925181982 0.6791095394003559 0.6767513913393902\n",
      " 0.6717092775937001 0.6619557830416325 0.660600647492823 0.65619316878258\n",
      " 0.6525430215536248 0.650493385815796 0.6474370595538277]\n"
     ]
    },
    {
     "data": {
      "image/png": "[encoded data removed]",
      "text/plain": [
       "<Figure size 640x480 with 1 Axes>"
      ]
     },
     "metadata": {},
     "output_type": "display_data"
    }
   ],
   "source": [
    "from sklearn.tree import plot_tree\n",
    "defmodel = DecisionTreeClassifier(criterion=\"entropy\", max_depth=3)\n",
    "defmodel.fit(X_train_enc, y_train)\n",
    "plot_tree(defmodel, filled=True, feature_names=X_train_enc.columns)\n",
    "print(rc)"
   ]
  },
  {
   "cell_type": "code",
   "execution_count": 72,
   "metadata": {},
   "outputs": [
    {
     "name": "stdout",
     "output_type": "stream",
     "text": [
      "0.767196467570528\n"
     ]
    }
   ],
   "source": [
    "y_pred = defmodel.predict_proba(X_val_enc)\n",
    "\n",
    "scr = sk.metrics.roc_auc_score(y_val, y_pred.T[1])\n",
    "print(scr)"
   ]
  },
  {
   "cell_type": "code",
   "execution_count": 73,
   "metadata": {},
   "outputs": [
    {
     "name": "stdout",
     "output_type": "stream",
     "text": [
      "[0.31600832 0.32112117 0.30752014 ... 0.33948864 0.67851852 0.44174757]\n"
     ]
    }
   ],
   "source": [
    "y_def = defmodel.predict_proba(X_test_enc)\n",
    "\n",
    "print(y_def.T[1])\n"
   ]
  },
  {
   "cell_type": "code",
   "execution_count": 59,
   "metadata": {},
   "outputs": [],
   "source": [
    "submission = pd.DataFrame({\"order_id\": df_test.order_id, \"late_order\": y_def.T[1]})\n",
    "submission.to_csv(\"submission_kaggle_def2.csv\", index=False)"
   ]
  }
 ],
 "metadata": {
  "kernelspec": {
   "display_name": "Python 3",
   "language": "python",
   "name": "python3"
  },
  "language_info": {
   "codemirror_mode": {
    "name": "ipython",
    "version": 3
   },
   "file_extension": ".py",
   "mimetype": "text/x-python",
   "name": "python",
   "nbconvert_exporter": "python",
   "pygments_lexer": "ipython3",
   "version": "3.10.6"
  },
  "vscode": {
   "interpreter": {
    "hash": "916dbcbb3f70747c44a77c7bcd40155683ae19c65e1c03b4aa3499c5328201f1"
   }
  }
 },
 "nbformat": 4,
 "nbformat_minor": 4
}
